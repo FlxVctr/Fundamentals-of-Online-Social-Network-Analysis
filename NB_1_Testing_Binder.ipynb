{
 "cells": [
  {
   "cell_type": "code",
   "execution_count": 1,
   "id": "b54584af-e27f-4e82-849e-3c76e1deb4b7",
   "metadata": {
    "tags": []
   },
   "outputs": [],
   "source": [
    "import pandas as pd"
   ]
  },
  {
   "cell_type": "code",
   "execution_count": 2,
   "id": "aff170b5-ecde-48eb-b8d2-c1066d858ab4",
   "metadata": {
    "tags": []
   },
   "outputs": [
    {
     "name": "stdout",
     "output_type": "stream",
     "text": [
      "minet 0.67.1\n",
      "\u001b[0m"
     ]
    }
   ],
   "source": [
    "!minet --version"
   ]
  },
  {
   "cell_type": "code",
   "execution_count": 3,
   "id": "3420e6f3-4f0c-4e26-8585-020556698b40",
   "metadata": {
    "tags": []
   },
   "outputs": [
    {
     "name": "stdout",
     "output_type": "stream",
     "text": [
      "Searching for \"(ukraine Germany) AND (tank OR tanks OR leopard) lang:en since:2023-03-12\"\n",
      "Collecting tweet: 1015 tweets [00:57, 17.78 tweets/s, queries=1]\u001b[0m\n"
     ]
    }
   ],
   "source": [
    "!minet twitter scrape tweets \"(ukraine Germany) AND (tank OR tanks OR leopard) lang:en since:2023-03-12\" -o test2.csv"
   ]
  }
 ],
 "metadata": {
  "kernelspec": {
   "display_name": "Python 3 (ipykernel)",
   "language": "python",
   "name": "python3"
  },
  "language_info": {
   "codemirror_mode": {
    "name": "ipython",
    "version": 3
   },
   "file_extension": ".py",
   "mimetype": "text/x-python",
   "name": "python",
   "nbconvert_exporter": "python",
   "pygments_lexer": "ipython3",
   "version": "3.10.10"
  }
 },
 "nbformat": 4,
 "nbformat_minor": 5
}
