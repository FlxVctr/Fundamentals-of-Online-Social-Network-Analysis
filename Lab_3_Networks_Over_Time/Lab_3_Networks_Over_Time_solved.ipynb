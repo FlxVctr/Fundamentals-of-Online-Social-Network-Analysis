{
 "cells": [
  {
   "attachments": {},
   "cell_type": "markdown",
   "metadata": {},
   "source": [
    "# Lab 2: Networking Data\n",
    "\n",
    "What we will do:\n",
    "\n",
    "1. Create an edge list for a mention and a hashtag network based on the data collected in Lab 1 again, *but this time with timestamps* ☝️\n",
    "2. Exploratively analyse both networks in Gephi\n",
    "\n",
    "Again, there will be two versions of this so called Jupyter Notebook for you to follow along:\n",
    "\n",
    "* One already filled out for you, in case you want to pay more attention on other things than typing or rather alter the code to try new things.\n",
    "* Another one with the code 'cells' emptied for you to practice your Python typing skills alongside the lecturer (or maybe sometimes find even better solutions to the given problems)\n",
    "\n",
    "Secret tip: If you want to try this at home, Github Copilot (free for students), ChatGPT and Bing Chat got pretty good at generating code for you. However, you still should be able to make sure that the code they produced actually does what you want it to do. So you still have to learn some Python.\n",
    "\n",
    "But now let's start."
   ]
  },
  {
   "attachments": {},
   "cell_type": "markdown",
   "metadata": {},
   "source": [
    "## Read in the data\n",
    "\n",
    "Make sure you still have or have uploaded the `leo_tweets.csv` file into the root folder of this notebook. If you have not done so, please do so. You were asked to download it last time. If you have lost it, ask the lecturer for it."
   ]
  },
  {
   "cell_type": "code",
   "execution_count": null,
   "metadata": {},
   "outputs": [],
   "source": [
    "# import the necessary packages\n",
    "import pandas as pd\n",
    "\n",
    "# load the dataset\n",
    "df = pd.read_csv(\"../leo_tweets.csv\")\n",
    "\n",
    "# show the first 5 rows of the dataset\n",
    "df.head()"
   ]
  },
  {
   "attachments": {},
   "cell_type": "markdown",
   "metadata": {},
   "source": [
    "## Create Mention Network"
   ]
  },
  {
   "cell_type": "code",
   "execution_count": null,
   "metadata": {},
   "outputs": [],
   "source": [
    "# filter the dataset to possibly relevant columns\n",
    "mentions = df[[\"local_time\", \"user_screen_name\", \"mentioned_names\"]]\n",
    "mentions.head()"
   ]
  },
  {
   "cell_type": "code",
   "execution_count": null,
   "metadata": {},
   "outputs": [],
   "source": [
    "# as we know from last time, mentioned_names is the relevant column\n",
    "# It is a list of users mentioned in the tweet\n",
    "# Let's filter the dataset to only include rows where mentioned_names is not null\n",
    "mentions = mentions[mentions[\"mentioned_names\"].notnull()]\n",
    "mentions.head()"
   ]
  },
  {
   "cell_type": "code",
   "execution_count": null,
   "metadata": {},
   "outputs": [],
   "source": [
    "# Now we have to split the mentioned_names column into multiple rows\n",
    "# We can do this by using the split and explode function\n",
    "# First we split the mentioned_names column by the pipe character\n",
    "mentions[\"mentioned_names\"] = mentions[\"mentioned_names\"].str.split(\"|\")\n",
    "mentions.head()"
   ]
  },
  {
   "cell_type": "code",
   "execution_count": null,
   "metadata": {},
   "outputs": [],
   "source": [
    "# Now we explode the mentioned_names column\n",
    "mentions = mentions.explode(\"mentioned_names\")\n",
    "mentions.head()"
   ]
  },
  {
   "cell_type": "code",
   "execution_count": 17,
   "metadata": {},
   "outputs": [
    {
     "data": {
      "text/plain": [
       "0"
      ]
     },
     "execution_count": 17,
     "metadata": {},
     "output_type": "execute_result"
    }
   ],
   "source": [
    "# are there duplicate rows?\n",
    "mentions.duplicated().sum()"
   ]
  },
  {
   "cell_type": "code",
   "execution_count": 18,
   "metadata": {},
   "outputs": [],
   "source": [
    "# Let's rename the columns ot Source and Target and export to a csv file for Gephi\n",
    "mentions.columns = [\"local_time\", \"Source\", \"Target\"]\n",
    "mentions.to_csv(\"mentions.csv\", index=False)"
   ]
  },
  {
   "attachments": {},
   "cell_type": "markdown",
   "metadata": {},
   "source": [
    "## Create Hashtag Co-Use Network"
   ]
  },
  {
   "cell_type": "code",
   "execution_count": 25,
   "metadata": {},
   "outputs": [
    {
     "data": {
      "text/html": [
       "<div>\n",
       "<style scoped>\n",
       "    .dataframe tbody tr th:only-of-type {\n",
       "        vertical-align: middle;\n",
       "    }\n",
       "\n",
       "    .dataframe tbody tr th {\n",
       "        vertical-align: top;\n",
       "    }\n",
       "\n",
       "    .dataframe thead th {\n",
       "        text-align: right;\n",
       "    }\n",
       "</style>\n",
       "<table border=\"1\" class=\"dataframe\">\n",
       "  <thead>\n",
       "    <tr style=\"text-align: right;\">\n",
       "      <th></th>\n",
       "      <th>hashtags</th>\n",
       "      <th>local_time</th>\n",
       "    </tr>\n",
       "  </thead>\n",
       "  <tbody>\n",
       "    <tr>\n",
       "      <th>0</th>\n",
       "      <td>america|bakhmut|canada|germany|ukraine</td>\n",
       "      <td>2023-03-25T14:00:48</td>\n",
       "    </tr>\n",
       "    <tr>\n",
       "      <th>1</th>\n",
       "      <td>germany|ukraine️|usa|usarmy</td>\n",
       "      <td>2023-03-25T10:28:30</td>\n",
       "    </tr>\n",
       "    <tr>\n",
       "      <th>2</th>\n",
       "      <td>america|bakhmut|canada|germany|ukraine</td>\n",
       "      <td>2023-03-25T07:10:25</td>\n",
       "    </tr>\n",
       "    <tr>\n",
       "      <th>3</th>\n",
       "      <td>bachmut|canada|germany|russia|ukraine</td>\n",
       "      <td>2023-03-24T20:56:58</td>\n",
       "    </tr>\n",
       "    <tr>\n",
       "      <th>6</th>\n",
       "      <td>russia|ukraine</td>\n",
       "      <td>2023-03-24T15:03:39</td>\n",
       "    </tr>\n",
       "  </tbody>\n",
       "</table>\n",
       "</div>"
      ],
      "text/plain": [
       "                                 hashtags           local_time\n",
       "0  america|bakhmut|canada|germany|ukraine  2023-03-25T14:00:48\n",
       "1             germany|ukraine️|usa|usarmy  2023-03-25T10:28:30\n",
       "2  america|bakhmut|canada|germany|ukraine  2023-03-25T07:10:25\n",
       "3   bachmut|canada|germany|russia|ukraine  2023-03-24T20:56:58\n",
       "6                          russia|ukraine  2023-03-24T15:03:39"
      ]
     },
     "execution_count": 25,
     "metadata": {},
     "output_type": "execute_result"
    }
   ],
   "source": [
    "# Lets filter the dataset to only include rows where hashtags is not null and keep only the relevant column\n",
    "hashtags = df[df[\"hashtags\"].notnull()][[\"hashtags\", \"local_time\"]]\n",
    "hashtags.head()"
   ]
  },
  {
   "cell_type": "code",
   "execution_count": 26,
   "metadata": {},
   "outputs": [
    {
     "data": {
      "text/html": [
       "<div>\n",
       "<style scoped>\n",
       "    .dataframe tbody tr th:only-of-type {\n",
       "        vertical-align: middle;\n",
       "    }\n",
       "\n",
       "    .dataframe tbody tr th {\n",
       "        vertical-align: top;\n",
       "    }\n",
       "\n",
       "    .dataframe thead th {\n",
       "        text-align: right;\n",
       "    }\n",
       "</style>\n",
       "<table border=\"1\" class=\"dataframe\">\n",
       "  <thead>\n",
       "    <tr style=\"text-align: right;\">\n",
       "      <th></th>\n",
       "      <th>hashtags</th>\n",
       "      <th>local_time</th>\n",
       "    </tr>\n",
       "  </thead>\n",
       "  <tbody>\n",
       "    <tr>\n",
       "      <th>0</th>\n",
       "      <td>[america, bakhmut, canada, germany, ukraine]</td>\n",
       "      <td>2023-03-25T14:00:48</td>\n",
       "    </tr>\n",
       "    <tr>\n",
       "      <th>1</th>\n",
       "      <td>[germany, ukraine️, usa, usarmy]</td>\n",
       "      <td>2023-03-25T10:28:30</td>\n",
       "    </tr>\n",
       "    <tr>\n",
       "      <th>2</th>\n",
       "      <td>[america, bakhmut, canada, germany, ukraine]</td>\n",
       "      <td>2023-03-25T07:10:25</td>\n",
       "    </tr>\n",
       "    <tr>\n",
       "      <th>3</th>\n",
       "      <td>[bachmut, canada, germany, russia, ukraine]</td>\n",
       "      <td>2023-03-24T20:56:58</td>\n",
       "    </tr>\n",
       "    <tr>\n",
       "      <th>6</th>\n",
       "      <td>[russia, ukraine]</td>\n",
       "      <td>2023-03-24T15:03:39</td>\n",
       "    </tr>\n",
       "  </tbody>\n",
       "</table>\n",
       "</div>"
      ],
      "text/plain": [
       "                                       hashtags           local_time\n",
       "0  [america, bakhmut, canada, germany, ukraine]  2023-03-25T14:00:48\n",
       "1              [germany, ukraine️, usa, usarmy]  2023-03-25T10:28:30\n",
       "2  [america, bakhmut, canada, germany, ukraine]  2023-03-25T07:10:25\n",
       "3   [bachmut, canada, germany, russia, ukraine]  2023-03-24T20:56:58\n",
       "6                             [russia, ukraine]  2023-03-24T15:03:39"
      ]
     },
     "execution_count": 26,
     "metadata": {},
     "output_type": "execute_result"
    }
   ],
   "source": [
    "# Our goal is to have one row for every pair of hashtags in hashtags\n",
    "# First we split the hashtags column by the pipe character again\n",
    "hashtags[\"hashtags\"] = hashtags[\"hashtags\"].str.split(\"|\")\n",
    "hashtags.head()"
   ]
  },
  {
   "cell_type": "code",
   "execution_count": 27,
   "metadata": {},
   "outputs": [
    {
     "data": {
      "text/html": [
       "<div>\n",
       "<style scoped>\n",
       "    .dataframe tbody tr th:only-of-type {\n",
       "        vertical-align: middle;\n",
       "    }\n",
       "\n",
       "    .dataframe tbody tr th {\n",
       "        vertical-align: top;\n",
       "    }\n",
       "\n",
       "    .dataframe thead th {\n",
       "        text-align: right;\n",
       "    }\n",
       "</style>\n",
       "<table border=\"1\" class=\"dataframe\">\n",
       "  <thead>\n",
       "    <tr style=\"text-align: right;\">\n",
       "      <th></th>\n",
       "      <th>hashtags</th>\n",
       "      <th>local_time</th>\n",
       "      <th>hashtag_pairs</th>\n",
       "    </tr>\n",
       "  </thead>\n",
       "  <tbody>\n",
       "    <tr>\n",
       "      <th>0</th>\n",
       "      <td>[america, bakhmut, canada, germany, ukraine]</td>\n",
       "      <td>2023-03-25T14:00:48</td>\n",
       "      <td>[(america, bakhmut), (america, canada), (ameri...</td>\n",
       "    </tr>\n",
       "    <tr>\n",
       "      <th>1</th>\n",
       "      <td>[germany, ukraine️, usa, usarmy]</td>\n",
       "      <td>2023-03-25T10:28:30</td>\n",
       "      <td>[(germany, ukraine️), (germany, usa), (germany...</td>\n",
       "    </tr>\n",
       "    <tr>\n",
       "      <th>2</th>\n",
       "      <td>[america, bakhmut, canada, germany, ukraine]</td>\n",
       "      <td>2023-03-25T07:10:25</td>\n",
       "      <td>[(america, bakhmut), (america, canada), (ameri...</td>\n",
       "    </tr>\n",
       "    <tr>\n",
       "      <th>3</th>\n",
       "      <td>[bachmut, canada, germany, russia, ukraine]</td>\n",
       "      <td>2023-03-24T20:56:58</td>\n",
       "      <td>[(bachmut, canada), (bachmut, germany), (bachm...</td>\n",
       "    </tr>\n",
       "    <tr>\n",
       "      <th>6</th>\n",
       "      <td>[russia, ukraine]</td>\n",
       "      <td>2023-03-24T15:03:39</td>\n",
       "      <td>[(russia, ukraine)]</td>\n",
       "    </tr>\n",
       "  </tbody>\n",
       "</table>\n",
       "</div>"
      ],
      "text/plain": [
       "                                       hashtags           local_time  \\\n",
       "0  [america, bakhmut, canada, germany, ukraine]  2023-03-25T14:00:48   \n",
       "1              [germany, ukraine️, usa, usarmy]  2023-03-25T10:28:30   \n",
       "2  [america, bakhmut, canada, germany, ukraine]  2023-03-25T07:10:25   \n",
       "3   [bachmut, canada, germany, russia, ukraine]  2023-03-24T20:56:58   \n",
       "6                             [russia, ukraine]  2023-03-24T15:03:39   \n",
       "\n",
       "                                       hashtag_pairs  \n",
       "0  [(america, bakhmut), (america, canada), (ameri...  \n",
       "1  [(germany, ukraine️), (germany, usa), (germany...  \n",
       "2  [(america, bakhmut), (america, canada), (ameri...  \n",
       "3  [(bachmut, canada), (bachmut, germany), (bachm...  \n",
       "6                                [(russia, ukraine)]  "
      ]
     },
     "execution_count": 27,
     "metadata": {},
     "output_type": "execute_result"
    }
   ],
   "source": [
    "# Now we need to find all possible combinations of hashtags with the itertools package\n",
    "import itertools\n",
    "\n",
    "hashtags['hashtag_pairs'] = hashtags['hashtags'].apply(lambda x: list(itertools.combinations(x, 2)))\n",
    "hashtags.head()"
   ]
  },
  {
   "cell_type": "code",
   "execution_count": 28,
   "metadata": {},
   "outputs": [
    {
     "data": {
      "text/html": [
       "<div>\n",
       "<style scoped>\n",
       "    .dataframe tbody tr th:only-of-type {\n",
       "        vertical-align: middle;\n",
       "    }\n",
       "\n",
       "    .dataframe tbody tr th {\n",
       "        vertical-align: top;\n",
       "    }\n",
       "\n",
       "    .dataframe thead th {\n",
       "        text-align: right;\n",
       "    }\n",
       "</style>\n",
       "<table border=\"1\" class=\"dataframe\">\n",
       "  <thead>\n",
       "    <tr style=\"text-align: right;\">\n",
       "      <th></th>\n",
       "      <th>hashtags</th>\n",
       "      <th>local_time</th>\n",
       "      <th>hashtag_pairs</th>\n",
       "    </tr>\n",
       "  </thead>\n",
       "  <tbody>\n",
       "    <tr>\n",
       "      <th>0</th>\n",
       "      <td>[america, bakhmut, canada, germany, ukraine]</td>\n",
       "      <td>2023-03-25T14:00:48</td>\n",
       "      <td>(america, bakhmut)</td>\n",
       "    </tr>\n",
       "    <tr>\n",
       "      <th>0</th>\n",
       "      <td>[america, bakhmut, canada, germany, ukraine]</td>\n",
       "      <td>2023-03-25T14:00:48</td>\n",
       "      <td>(america, canada)</td>\n",
       "    </tr>\n",
       "    <tr>\n",
       "      <th>0</th>\n",
       "      <td>[america, bakhmut, canada, germany, ukraine]</td>\n",
       "      <td>2023-03-25T14:00:48</td>\n",
       "      <td>(america, germany)</td>\n",
       "    </tr>\n",
       "    <tr>\n",
       "      <th>0</th>\n",
       "      <td>[america, bakhmut, canada, germany, ukraine]</td>\n",
       "      <td>2023-03-25T14:00:48</td>\n",
       "      <td>(america, ukraine)</td>\n",
       "    </tr>\n",
       "    <tr>\n",
       "      <th>0</th>\n",
       "      <td>[america, bakhmut, canada, germany, ukraine]</td>\n",
       "      <td>2023-03-25T14:00:48</td>\n",
       "      <td>(bakhmut, canada)</td>\n",
       "    </tr>\n",
       "  </tbody>\n",
       "</table>\n",
       "</div>"
      ],
      "text/plain": [
       "                                       hashtags           local_time  \\\n",
       "0  [america, bakhmut, canada, germany, ukraine]  2023-03-25T14:00:48   \n",
       "0  [america, bakhmut, canada, germany, ukraine]  2023-03-25T14:00:48   \n",
       "0  [america, bakhmut, canada, germany, ukraine]  2023-03-25T14:00:48   \n",
       "0  [america, bakhmut, canada, germany, ukraine]  2023-03-25T14:00:48   \n",
       "0  [america, bakhmut, canada, germany, ukraine]  2023-03-25T14:00:48   \n",
       "\n",
       "        hashtag_pairs  \n",
       "0  (america, bakhmut)  \n",
       "0   (america, canada)  \n",
       "0  (america, germany)  \n",
       "0  (america, ukraine)  \n",
       "0   (bakhmut, canada)  "
      ]
     },
     "execution_count": 28,
     "metadata": {},
     "output_type": "execute_result"
    }
   ],
   "source": [
    "# now we can explode the hashtag_pairs column\n",
    "hashtags = hashtags.explode(\"hashtag_pairs\")\n",
    "hashtags.head()"
   ]
  },
  {
   "cell_type": "code",
   "execution_count": 29,
   "metadata": {},
   "outputs": [
    {
     "data": {
      "text/html": [
       "<div>\n",
       "<style scoped>\n",
       "    .dataframe tbody tr th:only-of-type {\n",
       "        vertical-align: middle;\n",
       "    }\n",
       "\n",
       "    .dataframe tbody tr th {\n",
       "        vertical-align: top;\n",
       "    }\n",
       "\n",
       "    .dataframe thead th {\n",
       "        text-align: right;\n",
       "    }\n",
       "</style>\n",
       "<table border=\"1\" class=\"dataframe\">\n",
       "  <thead>\n",
       "    <tr style=\"text-align: right;\">\n",
       "      <th></th>\n",
       "      <th>local_time</th>\n",
       "      <th>Source</th>\n",
       "      <th>Target</th>\n",
       "    </tr>\n",
       "  </thead>\n",
       "  <tbody>\n",
       "    <tr>\n",
       "      <th>0</th>\n",
       "      <td>2023-03-25T14:00:48</td>\n",
       "      <td>america</td>\n",
       "      <td>bakhmut</td>\n",
       "    </tr>\n",
       "    <tr>\n",
       "      <th>0</th>\n",
       "      <td>2023-03-25T14:00:48</td>\n",
       "      <td>america</td>\n",
       "      <td>canada</td>\n",
       "    </tr>\n",
       "    <tr>\n",
       "      <th>0</th>\n",
       "      <td>2023-03-25T14:00:48</td>\n",
       "      <td>america</td>\n",
       "      <td>germany</td>\n",
       "    </tr>\n",
       "    <tr>\n",
       "      <th>0</th>\n",
       "      <td>2023-03-25T14:00:48</td>\n",
       "      <td>america</td>\n",
       "      <td>ukraine</td>\n",
       "    </tr>\n",
       "    <tr>\n",
       "      <th>0</th>\n",
       "      <td>2023-03-25T14:00:48</td>\n",
       "      <td>bakhmut</td>\n",
       "      <td>canada</td>\n",
       "    </tr>\n",
       "  </tbody>\n",
       "</table>\n",
       "</div>"
      ],
      "text/plain": [
       "            local_time   Source   Target\n",
       "0  2023-03-25T14:00:48  america  bakhmut\n",
       "0  2023-03-25T14:00:48  america   canada\n",
       "0  2023-03-25T14:00:48  america  germany\n",
       "0  2023-03-25T14:00:48  america  ukraine\n",
       "0  2023-03-25T14:00:48  bakhmut   canada"
      ]
     },
     "execution_count": 29,
     "metadata": {},
     "output_type": "execute_result"
    }
   ],
   "source": [
    "# now we can remove the hashtags column and split the hashtag_pairs column into two columns\n",
    "hashtags = hashtags.drop(\"hashtags\", axis=1)\n",
    "hashtags[[\"Source\", \"Target\"]] = pd.DataFrame(hashtags[\"hashtag_pairs\"].tolist(), index=hashtags.index)\n",
    "hashtags = hashtags.drop(\"hashtag_pairs\", axis=1)\n",
    "hashtags.head()"
   ]
  },
  {
   "cell_type": "code",
   "execution_count": 30,
   "metadata": {},
   "outputs": [],
   "source": [
    "# save to a csv\n",
    "hashtags.to_csv(\"hashtags.csv\", index=False)"
   ]
  }
 ],
 "metadata": {
  "kernelspec": {
   "display_name": "Fundamentals_of_Online__Social__Network_An-_5iAiouA",
   "language": "python",
   "name": "python3"
  },
  "language_info": {
   "codemirror_mode": {
    "name": "ipython",
    "version": 3
   },
   "file_extension": ".py",
   "mimetype": "text/x-python",
   "name": "python",
   "nbconvert_exporter": "python",
   "pygments_lexer": "ipython3",
   "version": "3.10.11"
  },
  "orig_nbformat": 4
 },
 "nbformat": 4,
 "nbformat_minor": 2
}
