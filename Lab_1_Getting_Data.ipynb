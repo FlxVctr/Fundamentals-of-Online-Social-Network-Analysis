{
 "cells": [
  {
   "attachments": {},
   "cell_type": "markdown",
   "id": "157b07b0",
   "metadata": {
    "tags": []
   },
   "source": [
    "# Lab 1: Getting and Exploring Data with Minet and Python Pandas\n",
    "\n",
    "What we will do:\n",
    "\n",
    "1. Explain this programming environment\n",
    "2. Scrape some Tweets based on a keyword search using the *minet* package\n",
    "3. Use the pandas package to explore the data and generate some descriptive statistics and visualisations (unfortunately no networks today)\n",
    "4. Learn some Python and command line principles on the way (if you didn't know it before)\n",
    "\n",
    "There will be two versions of this so called Jupyter Notebook for you to follow along:\n",
    "\n",
    "* One already filled out for you, in case you want to pay more attention on other things than typing or rather alter the code to try new things.\n",
    "* Another one with the code 'cells' emptied for you to practice your Python typing skills alongside the lecturer (or maybe sometimes find even better solutions to the given problems)\n",
    "\n",
    "Secret tip: If you want to try this at home, ChatGPT and Bing Chat got pretty good at generating code for you. However, you still should be able to make sure that the code they produced actually does what you want it to do. So you still have to learn some Python.\n",
    "\n",
    "But now let's start."
   ]
  },
  {
   "cell_type": "markdown",
   "id": "1acbeba6",
   "metadata": {
    "tags": []
   },
   "source": [
    "## Get to know the minet package"
   ]
  },
  {
   "cell_type": "markdown",
   "id": "16315c4b",
   "metadata": {},
   "source": [
    "Let's check whether minet is correctly setup in this programming environment.\n",
    "\n",
    "You can always look up instructions on how to use it in its [documentation](https://github.com/medialab/minet/blob/master/docs/cli.md).\n",
    "\n",
    "The output of this cell should be something like `minet 0.67.1`"
   ]
  },
  {
   "cell_type": "code",
   "execution_count": null,
   "id": "aff170b5-ecde-48eb-b8d2-c1066d858ab4",
   "metadata": {
    "tags": []
   },
   "outputs": [],
   "source": [
    "!minet --version"
   ]
  },
  {
   "cell_type": "markdown",
   "id": "50e69b86",
   "metadata": {},
   "source": [
    "Let's call for help."
   ]
  },
  {
   "cell_type": "code",
   "execution_count": null,
   "id": "a5fd9f1b",
   "metadata": {},
   "outputs": [],
   "source": [
    "!minet --help"
   ]
  },
  {
   "cell_type": "markdown",
   "id": "3e4c7484",
   "metadata": {},
   "source": [
    "We actually want twitter data, so let's try that"
   ]
  },
  {
   "cell_type": "code",
   "execution_count": null,
   "id": "fcca322a",
   "metadata": {},
   "outputs": [],
   "source": [
    "!minet twitter"
   ]
  },
  {
   "cell_type": "markdown",
   "id": "75d3f6d9",
   "metadata": {},
   "source": [
    "Not sure whether the API is still working, so we choose scraping."
   ]
  },
  {
   "cell_type": "code",
   "execution_count": null,
   "id": "e9b6efd2",
   "metadata": {},
   "outputs": [],
   "source": [
    "!minet twitter scrape -h"
   ]
  },
  {
   "cell_type": "markdown",
   "id": "62d0818b",
   "metadata": {},
   "source": [
    "We're interested in discussions about Germany giving battle tanks to Ukraine. So, let's try to scrape 100 tweets, just to try our query, containing the word `Leopard` (the name of a German tank model most requested by Ukraine)."
   ]
  },
  {
   "cell_type": "code",
   "execution_count": null,
   "id": "0c6ac7c0",
   "metadata": {},
   "outputs": [],
   "source": [
    "!minet twitter scrape tweets -l 10 \"Leopard\""
   ]
  },
  {
   "cell_type": "markdown",
   "id": "1ef65163",
   "metadata": {},
   "source": [
    "Guess, we have to refine the query … "
   ]
  },
  {
   "cell_type": "code",
   "execution_count": null,
   "id": "3420e6f3-4f0c-4e26-8585-020556698b40",
   "metadata": {
    "tags": []
   },
   "outputs": [],
   "source": [
    "!minet twitter scrape tweets -l 10 \"(ukraine Germany) AND (tank OR tanks OR leopard)\""
   ]
  },
  {
   "cell_type": "markdown",
   "id": "e6672007",
   "metadata": {},
   "source": [
    "Meh, still not good enough?"
   ]
  },
  {
   "cell_type": "code",
   "execution_count": null,
   "id": "d294eb35",
   "metadata": {
    "tags": []
   },
   "outputs": [],
   "source": [
    "!minet twitter scrape tweets -l 10 \"(Ukraine Germany) AND (tank OR tanks OR leopard) AND (deliver OR delivery OR delivers)\""
   ]
  },
  {
   "cell_type": "markdown",
   "id": "e4ffb8c0-a30b-4a11-836a-2f52c68fa8b2",
   "metadata": {},
   "source": [
    "Ok, this looks better. But we want more tweets, and this will be too much to view here. So let's write to a CSV called `leo_tweets.csv`"
   ]
  },
  {
   "cell_type": "code",
   "execution_count": null,
   "id": "4449b594-155f-48b2-872f-8eb35ff397e7",
   "metadata": {
    "tags": []
   },
   "outputs": [],
   "source": [
    "!minet twitter scrape tweets -l 10 \"(Ukraine Germany) AND (tank OR tanks OR leopard) AND (deliver OR delivery OR delivers)\" -o leo_tweets.csv"
   ]
  },
  {
   "cell_type": "markdown",
   "id": "5a3172e1-d48b-41df-935c-6ed067633233",
   "metadata": {},
   "source": [
    "Now, open the CSV file on the left to have a look at it whether everything looks ok.\n",
    "\n",
    "Then come back and we'll collect tweets since the beginning of this year.\n",
    "\n",
    "(And go for a coffee in the meantime. Should take about 3 minutes.)"
   ]
  },
  {
   "cell_type": "code",
   "execution_count": null,
   "id": "a23b2767-6f12-4dfb-9ec1-05d7eca71fdd",
   "metadata": {
    "tags": []
   },
   "outputs": [],
   "source": [
    "!minet twitter scrape tweets \"(Ukraine Germany) AND (tank OR tanks OR leopard) AND (deliver OR delivery OR delivers) since:2023-01-01\" -o leo_tweets.csv"
   ]
  },
  {
   "cell_type": "markdown",
   "id": "aa5eae4f-8678-48d4-837a-eef6ffe7798a",
   "metadata": {},
   "source": [
    "For the remainder of this tutorial we will use Pandas. Pandas is basically a swiss army knife for data wrangling and analysis in Python. Think of it as R, but in Python.\n",
    "\n",
    "You can always look up its documentation [here](https://pandas.pydata.org/docs/user_guide/index.html).\n",
    "\n",
    "First we need to import the package with `import pandas as pd`."
   ]
  },
  {
   "cell_type": "markdown",
   "id": "4dd68dbd-4cd2-41b6-afb5-90f5e1bbf0e3",
   "metadata": {
    "tags": []
   },
   "source": [
    "## Explore the Data"
   ]
  },
  {
   "cell_type": "code",
   "execution_count": null,
   "id": "a588b30a-6618-424a-aacd-287e363e4271",
   "metadata": {
    "tags": []
   },
   "outputs": [],
   "source": [
    "import pandas as pd"
   ]
  },
  {
   "attachments": {},
   "cell_type": "markdown",
   "id": "47cec003-f4ad-4772-85ba-2402e9fb7e9e",
   "metadata": {},
   "source": [
    "Then we read in the data with `pd.read_csv`. You can always get help in Jupyter by writing a question mark behind a command and run the cell. Also, try using the (Shift+)TAB key for triggering autocompletion!"
   ]
  },
  {
   "cell_type": "code",
   "execution_count": null,
   "id": "63d74ed2-2f3b-4ab4-bc59-9e69efa8cc5b",
   "metadata": {
    "tags": []
   },
   "outputs": [],
   "source": [
    "# Read the CSV file into a pandas DataFrame\n",
    "df = pd.read_csv('leo_tweets.csv')"
   ]
  },
  {
   "cell_type": "code",
   "execution_count": null,
   "id": "a60b1dcd-de5d-4c62-9485-69431ebf5168",
   "metadata": {
    "tags": []
   },
   "outputs": [],
   "source": [
    "# Display the DataFrame\n",
    "df"
   ]
  },
  {
   "cell_type": "markdown",
   "id": "cb5ad154-bc07-4065-a7ea-cb8f0020442c",
   "metadata": {},
   "source": [
    "Let's parse the dates with help of the documentation of the read_csv function."
   ]
  },
  {
   "cell_type": "code",
   "execution_count": null,
   "id": "31ccd3e9-1fcc-4089-a920-960416416737",
   "metadata": {
    "tags": []
   },
   "outputs": [],
   "source": [
    "df = pd.read_csv('leo_tweets.csv', parse_dates=['local_time'])\n",
    "df"
   ]
  },
  {
   "attachments": {},
   "cell_type": "markdown",
   "id": "10ba4a04",
   "metadata": {},
   "source": [
    "First, let's see what columns are there"
   ]
  },
  {
   "cell_type": "code",
   "execution_count": null,
   "id": "1e6fadf7",
   "metadata": {},
   "outputs": [],
   "source": [
    "df.columns"
   ]
  },
  {
   "attachments": {},
   "cell_type": "markdown",
   "id": "dd0e345b",
   "metadata": {},
   "source": [
    "Which are the most retweeted tweets?"
   ]
  },
  {
   "cell_type": "code",
   "execution_count": null,
   "id": "440a4023",
   "metadata": {},
   "outputs": [],
   "source": [
    "# set display option for text column\n",
    "pd.set_option('display.max_colwidth', 1000)\n",
    "# sort by retweet count, and show top 10\n",
    "df[['retweet_count','user_screen_name','local_time','text']].sort_values(ascending=False, by='retweet_count')[:10]"
   ]
  },
  {
   "attachments": {},
   "cell_type": "markdown",
   "id": "c0d585ef",
   "metadata": {},
   "source": [
    "This is nice, but to get a birds-eye view of the data, we need to plot it."
   ]
  },
  {
   "cell_type": "code",
   "execution_count": null,
   "id": "3b9c9622",
   "metadata": {},
   "outputs": [],
   "source": [
    "# Let's plot the retweet counts\n",
    "df['retweet_count'].plot(kind='hist', bins=100, logy=True, xlabel='Retweet Count', ylabel='Frequency', title='Histogram of Retweet Counts')"
   ]
  },
  {
   "cell_type": "code",
   "execution_count": null,
   "id": "53cc07ed",
   "metadata": {},
   "outputs": [],
   "source": [
    "# Is there a relationship between retweet count and like count?\n",
    "df.plot(kind='scatter', x='retweet_count', y='like_count', logx=True, logy=True, xlabel='Retweet Count', ylabel='Like Count', title='Scatterplot of Retweet Count vs. Like Count')"
   ]
  },
  {
   "cell_type": "code",
   "execution_count": null,
   "id": "e4f26aaf",
   "metadata": {},
   "outputs": [],
   "source": [
    "# What about views?\n",
    "df.plot(kind='scatter', x='retweet_count', y='impression_count', logx=True, logy=True, xlabel='Retweet Count', ylabel='View Count', title='Scatterplot of Retweet Count vs. View Count')"
   ]
  },
  {
   "cell_type": "code",
   "execution_count": null,
   "id": "c80791f7",
   "metadata": {},
   "outputs": [],
   "source": [
    "# What about replies?\n",
    "df.plot(kind='scatter', x='retweet_count', y='reply_count', logx=True, logy=True, xlabel='Retweet Count', ylabel='Reply Count', title='Scatterplot of Retweet Count vs. Reply Count')"
   ]
  },
  {
   "cell_type": "code",
   "execution_count": null,
   "id": "2bfecb89",
   "metadata": {},
   "outputs": [],
   "source": [
    "# And followers vs. retweets?\n",
    "df.plot(kind='scatter', x='user_followers', y='retweet_count', logx=True, logy=True, xlabel='User Followers Count', ylabel='Retweet Count', title='Scatterplot of User Followers Count vs. Retweet Count')"
   ]
  },
  {
   "cell_type": "code",
   "execution_count": null,
   "id": "fc22a579",
   "metadata": {},
   "outputs": [],
   "source": [
    "# Followers vs. views?\n",
    "df.plot(kind='scatter', x='user_followers', y='impression_count', logx=True, logy=True, xlabel='User Followers Count', ylabel='View Count', title='Scatterplot of User Followers Count vs. View Count')"
   ]
  },
  {
   "cell_type": "code",
   "execution_count": null,
   "id": "0d7c2b81",
   "metadata": {},
   "outputs": [],
   "source": [
    "# Finally, let's do a pie chart of the top 10 hashtags\n",
    "df['hashtags'].value_counts()[:10].plot(kind='pie', title='Top 10 Hashtags')"
   ]
  },
  {
   "cell_type": "code",
   "execution_count": null,
   "id": "f50fadc3",
   "metadata": {},
   "outputs": [],
   "source": [
    "# This is not right, because the hashtags are not separated. Let's have a look at the data\n",
    "df['hashtags'].value_counts()"
   ]
  },
  {
   "cell_type": "code",
   "execution_count": null,
   "id": "c327d5f2",
   "metadata": {},
   "outputs": [],
   "source": [
    "# Let's try to fix this\n",
    "df['hashtags'].str.split('|', expand=True).stack().value_counts()[:10].plot(kind='pie', title='Top 10 Hashtags')"
   ]
  },
  {
   "attachments": {},
   "cell_type": "markdown",
   "id": "e1c38b62-434b-450d-aa5a-ca3e1c52d9e7",
   "metadata": {},
   "source": [
    "There's always more than one way to solve the same problem. Let's see who tweeted the most with the groupby and count command."
   ]
  },
  {
   "cell_type": "code",
   "execution_count": null,
   "id": "c346debb-81e2-4bee-8b4c-823bf2643b2b",
   "metadata": {
    "tags": []
   },
   "outputs": [],
   "source": [
    "df.groupby('user_screen_name')['id'].count().sort_values(ascending=False)"
   ]
  },
  {
   "cell_type": "markdown",
   "id": "bcf6e145-cb3e-4ae5-a42e-4d68cf6ec78c",
   "metadata": {},
   "source": [
    "And let's make with the top 30 a nice bar plot with the plot function."
   ]
  },
  {
   "cell_type": "code",
   "execution_count": null,
   "id": "baaf2b7a-ecac-4964-b74d-8975393cc6ad",
   "metadata": {
    "tags": []
   },
   "outputs": [],
   "source": [
    "df.groupby('user_screen_name')['id'].count().sort_values(ascending=False)[:30].plot(kind='bar')"
   ]
  },
  {
   "cell_type": "markdown",
   "id": "f7f1bc8b-8969-4fd0-affa-00ad86b7edb8",
   "metadata": {},
   "source": [
    "Let's look at their user descriptions."
   ]
  },
  {
   "cell_type": "code",
   "execution_count": null,
   "id": "5fe2a430-e31f-458e-b2df-c63f5daa274f",
   "metadata": {
    "tags": []
   },
   "outputs": [],
   "source": [
    "# Group by screen name and count the number of tweets per user\n",
    "top_30 = df.groupby('user_screen_name')['id'].count().sort_values(ascending=False)[:30]\n",
    "\n",
    "# Merge the top 30 users with their descriptions\n",
    "top_30_with_descriptions = pd.merge(top_30, df, left_index=True, right_on='user_screen_name')[['user_screen_name', 'user_description']]\n",
    "\n",
    "# Drop duplicates\n",
    "top_30_with_descriptions.drop_duplicates()"
   ]
  },
  {
   "cell_type": "markdown",
   "id": "5c35830f-0dfc-4c23-8a97-221ee4ee94bd",
   "metadata": {},
   "source": [
    "Let's look at the tweets of the most active account with 'boolean filtering'."
   ]
  },
  {
   "cell_type": "code",
   "execution_count": null,
   "id": "dfad2ffa-1f03-45b8-a6df-3ffc5d4ec9d4",
   "metadata": {
    "tags": []
   },
   "outputs": [],
   "source": [
    "# Identify the most active users by number of tweets\n",
    "top_user = top_30_with_descriptions['user_screen_name'].iloc[0]\n",
    "\n",
    "# Print the top user's screen name\n",
    "print(top_user)\n",
    "\n",
    "# Print the top user's tweets\n",
    "df[df['user_screen_name'] == top_user][['local_time', 'text']].sort_values(by='local_time')"
   ]
  },
  {
   "cell_type": "code",
   "execution_count": null,
   "id": "e5ad2d62",
   "metadata": {},
   "outputs": [],
   "source": [
    "# How many people did the top user reach?\n",
    "df[df['user_screen_name'] == top_user]['impression_count'].sum()"
   ]
  },
  {
   "cell_type": "code",
   "execution_count": null,
   "id": "960f53b1",
   "metadata": {},
   "outputs": [],
   "source": [
    "# Who has actually reached the most people?\n",
    "df.groupby('user_screen_name')['impression_count', 'retweet_count', 'like_count'].sum().sort_values(by='impression_count', ascending=False)[:10]"
   ]
  },
  {
   "cell_type": "markdown",
   "id": "f1aac8a4-7480-4794-b90b-20acaa1e9519",
   "metadata": {},
   "source": [
    "Let's now look at tweets over time"
   ]
  },
  {
   "cell_type": "code",
   "execution_count": null,
   "id": "b9c347a4-209b-49a1-9dca-7c07fb7294a9",
   "metadata": {
    "tags": []
   },
   "outputs": [],
   "source": [
    "# Count the number of tweets per day\n",
    "df.groupby(df[\"local_time\"].dt.date)['id'].count().plot(kind=\"bar\", figsize=(15,5), xlabel='Date', ylabel='Number of Tweets', title='Number of Tweets per Day')"
   ]
  },
  {
   "cell_type": "markdown",
   "id": "0e5412f9-d62a-4faa-a2d5-48b7dd93b1b6",
   "metadata": {},
   "source": [
    "There was a lot of activity on certain days. Let's look closer with 'boolean filtering'."
   ]
  },
  {
   "cell_type": "code",
   "execution_count": null,
   "id": "adde0424-0e1e-4f0f-8333-56d7e3fd65c7",
   "metadata": {
    "tags": []
   },
   "outputs": [],
   "source": [
    "# filter the dataframe to only include rows with local_time between 2023-01-25 and 2023-01-26, sort by time, and show only the date and text columns\n",
    "df[(df['local_time'] > '2023-01-25') & (df['local_time'] < '2023-01-26')].sort_values(by='local_time')[['local_time', 'text']]"
   ]
  },
  {
   "cell_type": "markdown",
   "id": "49678b4f-a65c-43e5-a0bd-982ca4273c2c",
   "metadata": {},
   "source": [
    "And now, to have some kind of network analysis at least, let's look at who got the most mentions"
   ]
  },
  {
   "cell_type": "code",
   "execution_count": null,
   "id": "0a2c2581-024b-4426-8823-74832778593b",
   "metadata": {
    "tags": []
   },
   "outputs": [],
   "source": [
    "# 1. create a dataframe from a column containing a string of names separated by |\n",
    "mentioned_names = df[['mentioned_names']]\n",
    "\n",
    "# 2. expand the string of names into a list of names\n",
    "expanded = mentioned_names['mentioned_names'].str.split('|', expand=True)\n",
    "\n",
    "# 3. print the expanded list of names\n",
    "expanded"
   ]
  },
  {
   "cell_type": "code",
   "execution_count": null,
   "id": "9bbfe69c",
   "metadata": {},
   "outputs": [],
   "source": [
    "# 4. stack the list of names into a single column\n",
    "stacked = expanded.stack()\n",
    "\n",
    "stacked"
   ]
  },
  {
   "cell_type": "code",
   "execution_count": null,
   "id": "69887432-6b1d-48f8-af73-c174180ae5db",
   "metadata": {
    "tags": []
   },
   "outputs": [],
   "source": [
    "# 5. count the number of times each name appears\n",
    "most_mentioned = stacked.value_counts()"
   ]
  },
  {
   "cell_type": "code",
   "execution_count": null,
   "id": "9a6f2162-cdba-48c8-b5fc-c64404fd1ee7",
   "metadata": {
    "tags": []
   },
   "outputs": [],
   "source": [
    "most_mentioned[100::-1].plot(kind='barh', figsize=(5,15))"
   ]
  },
  {
   "cell_type": "markdown",
   "id": "4d5cda58-f864-4b36-a9ee-4e7fec98b626",
   "metadata": {},
   "source": [
    "# Thanks for your attention! Any Questions?\n",
    "\n",
    "Ask now or @flxvctr(@mas.to) on Twitter or Mastodon."
   ]
  },
  {
   "attachments": {},
   "cell_type": "markdown",
   "id": "7a4d1d64",
   "metadata": {},
   "source": [
    "That's it. For homework: \n",
    "\n",
    "1. Try to generate a DataFrame with one column containing the users tweeting and the other column containing the users mentioned in the tweets.\n",
    "2. Export the DataFrame to a CSV file.\n",
    "3. Download and install Gephi and import the CSV file to create a network graph.\n",
    "\n",
    "Don't worry if you do not succeed. We will do this together in the next lab."
   ]
  }
 ],
 "metadata": {
  "kernelspec": {
   "display_name": "Python 3 (ipykernel)",
   "language": "python",
   "name": "python3"
  },
  "language_info": {
   "codemirror_mode": {
    "name": "ipython",
    "version": 3
   },
   "file_extension": ".py",
   "mimetype": "text/x-python",
   "name": "python",
   "nbconvert_exporter": "python",
   "pygments_lexer": "ipython3",
   "version": "3.10.10"
  }
 },
 "nbformat": 4,
 "nbformat_minor": 5
}
