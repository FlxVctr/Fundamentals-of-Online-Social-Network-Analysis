{
 "cells": [
  {
   "attachments": {},
   "cell_type": "markdown",
   "id": "157b07b0",
   "metadata": {},
   "source": [
    "# Lab 1: Getting Data\n",
    "\n",
    "What we will do:\n",
    "\n",
    "1. Explain this programming environment\n",
    "2. Scrape some Tweets based on a keyword search using the *minet* package\n",
    "3. Use the pandas package to explore the data and generate some descriptive statistics and visualisations (unfortunately no networks today)\n",
    "4. Learn some Python and command line principles on the way (if you didn't know it before)\n",
    "\n",
    "There will be two versions of this so called Jupyter Notebook for you to follow along:\n",
    "\n",
    "* One already filled out for you, in case you want to pay more attention on other things than typing or rather alter the code to try new things.\n",
    "* Another one with the code 'cells' emptied for you to practice your Python typing skills alongside the lecturer (or maybe sometimes find even better solutions to the given problems)\n",
    "\n",
    "But now let's start."
   ]
  },
  {
   "attachments": {},
   "cell_type": "markdown",
   "id": "1acbeba6",
   "metadata": {},
   "source": [
    "## Get to know the minet package"
   ]
  },
  {
   "attachments": {},
   "cell_type": "markdown",
   "id": "16315c4b",
   "metadata": {},
   "source": [
    "Let's check whether minet is correctly setup in this programming environment.\n",
    "\n",
    "The output of this cell should be something like `minet 0.67.1`"
   ]
  },
  {
   "cell_type": "code",
   "execution_count": null,
   "id": "aff170b5-ecde-48eb-b8d2-c1066d858ab4",
   "metadata": {
    "tags": []
   },
   "outputs": [],
   "source": [
    "!minet --version"
   ]
  },
  {
   "attachments": {},
   "cell_type": "markdown",
   "id": "50e69b86",
   "metadata": {},
   "source": [
    "Let's call for help."
   ]
  },
  {
   "cell_type": "code",
   "execution_count": null,
   "id": "a5fd9f1b",
   "metadata": {},
   "outputs": [],
   "source": [
    "!minet --help"
   ]
  },
  {
   "attachments": {},
   "cell_type": "markdown",
   "id": "3e4c7484",
   "metadata": {},
   "source": [
    "We actually want twitter data, so let's try that"
   ]
  },
  {
   "cell_type": "code",
   "execution_count": null,
   "id": "fcca322a",
   "metadata": {},
   "outputs": [],
   "source": [
    "!minet twitter"
   ]
  },
  {
   "attachments": {},
   "cell_type": "markdown",
   "id": "75d3f6d9",
   "metadata": {},
   "source": [
    "Not sure whether the API is still working, so we choose scraping."
   ]
  },
  {
   "cell_type": "code",
   "execution_count": null,
   "id": "e9b6efd2",
   "metadata": {},
   "outputs": [],
   "source": [
    "!minet twitter scrape -h"
   ]
  },
  {
   "attachments": {},
   "cell_type": "markdown",
   "id": "62d0818b",
   "metadata": {},
   "source": [
    "We're interested in discussions about Germany giving battle tanks to Ukraine. So, let's try to scrape 100 tweets, just to try our query, containing the word `Leopard` (the name of a German tank model most requested by Ukraine)."
   ]
  },
  {
   "cell_type": "code",
   "execution_count": null,
   "id": "0c6ac7c0",
   "metadata": {},
   "outputs": [],
   "source": [
    "!minet twitter scrape tweets -l 10 \"Leopard\""
   ]
  },
  {
   "attachments": {},
   "cell_type": "markdown",
   "id": "1ef65163",
   "metadata": {},
   "source": [
    "Guess, we have to refine the query … "
   ]
  },
  {
   "cell_type": "code",
   "execution_count": null,
   "id": "3420e6f3-4f0c-4e26-8585-020556698b40",
   "metadata": {
    "tags": []
   },
   "outputs": [],
   "source": [
    "!minet twitter scrape tweets -l 10 \"(ukraine Germany) AND (tank OR tanks OR leopard)\""
   ]
  },
  {
   "attachments": {},
   "cell_type": "markdown",
   "id": "e6672007",
   "metadata": {},
   "source": [
    "Meh, still not good enough?"
   ]
  },
  {
   "cell_type": "code",
   "execution_count": null,
   "id": "d294eb35",
   "metadata": {},
   "outputs": [],
   "source": [
    "!minet twitter scrape tweets -l 10 \"(Ukraine Germany) AND (tank OR tanks OR leopard) AND (deliver OR delivery OR delivers)\""
   ]
  }
 ],
 "metadata": {
  "kernelspec": {
   "display_name": "Python 3 (ipykernel)",
   "language": "python",
   "name": "python3"
  },
  "language_info": {
   "codemirror_mode": {
    "name": "ipython",
    "version": 3
   },
   "file_extension": ".py",
   "mimetype": "text/x-python",
   "name": "python",
   "nbconvert_exporter": "python",
   "pygments_lexer": "ipython3",
   "version": "3.10.10"
  }
 },
 "nbformat": 4,
 "nbformat_minor": 5
}
