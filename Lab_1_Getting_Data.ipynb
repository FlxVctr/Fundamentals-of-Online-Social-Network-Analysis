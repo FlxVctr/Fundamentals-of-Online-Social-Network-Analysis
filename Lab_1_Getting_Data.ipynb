{
 "cells": [
  {
   "attachments": {},
   "cell_type": "markdown",
   "id": "157b07b0",
   "metadata": {},
   "source": [
    "# Lab 1: Getting Data\n",
    "\n",
    "What we will do:\n",
    "\n",
    "1. Explain this programming environment\n",
    "2. Scrape some Tweets based on a keyword search using the *minet* package\n",
    "3. Use the pandas package to explore the data and generate some descriptive statistics and visualisations (unfortunately no networks today)\n",
    "4. Learn some Python and command line principles on the way (if you didn't know it before)\n",
    "\n",
    "There will be two versions of this so called Jupyter Notebook for you to follow along:\n",
    "\n",
    "* One already filled out for you, in case you want to pay more attention on other things than typing or rather alter the code to try new things.\n",
    "* Another one with the code 'cells' emptied for you to practice your Python typing skills alongside the lecturer (or maybe sometimes find even better solutions to the given problems)\n",
    "\n",
    "But now let's start."
   ]
  },
  {
   "attachments": {},
   "cell_type": "markdown",
   "id": "1acbeba6",
   "metadata": {},
   "source": [
    "## Get to know the minet package"
   ]
  },
  {
   "attachments": {},
   "cell_type": "markdown",
   "id": "16315c4b",
   "metadata": {},
   "source": [
    "Let's check whether minet is correctly setup in this programming environment.\n",
    "\n",
    "The output of this cell should be something like `minet 0.67.1`"
   ]
  },
  {
   "cell_type": "code",
   "execution_count": 1,
   "id": "aff170b5-ecde-48eb-b8d2-c1066d858ab4",
   "metadata": {
    "tags": []
   },
   "outputs": [
    {
     "name": "stdout",
     "output_type": "stream",
     "text": [
      "minet 0.67.1\n",
      "\u001b[0m"
     ]
    }
   ],
   "source": [
    "!minet --version"
   ]
  },
  {
   "attachments": {},
   "cell_type": "markdown",
   "id": "50e69b86",
   "metadata": {},
   "source": [
    "Let's call for help."
   ]
  },
  {
   "cell_type": "code",
   "execution_count": 2,
   "id": "a5fd9f1b",
   "metadata": {},
   "outputs": [
    {
     "name": "stdout",
     "output_type": "stream",
     "text": [
      "usage: minet [-h] [--version]\n",
      "             {buzzsumo,bz,cookies,crawl,crowdtangle,ct,extract,facebook,fb,fetch,google,hyphe,instagram,insta,mediacloud,mc,resolve,scrape,telegram,tl,tiktok,tk,twitter,tw,url-extract,url-join,url-parse,youtube,yt,help}\n",
      "             ...\n",
      "\n",
      "options:\n",
      "  -h, --help            show this help message and exit\n",
      "  --version             show program's version number and exit\n",
      "\n",
      "actions:\n",
      "  {buzzsumo,bz,cookies,crawl,crowdtangle,ct,extract,facebook,fb,fetch,google,hyphe,instagram,insta,mediacloud,mc,resolve,scrape,telegram,tl,tiktok,tk,twitter,tw,url-extract,url-join,url-parse,youtube,yt,help}\n",
      "                        Action to execute\n",
      "\u001b[0m"
     ]
    }
   ],
   "source": [
    "!minet --help"
   ]
  },
  {
   "attachments": {},
   "cell_type": "markdown",
   "id": "3e4c7484",
   "metadata": {},
   "source": [
    "We actually want twitter data, so let's try that"
   ]
  },
  {
   "cell_type": "code",
   "execution_count": 3,
   "id": "fcca322a",
   "metadata": {},
   "outputs": [
    {
     "name": "stdout",
     "output_type": "stream",
     "text": [
      "usage: minet twitter [-h] [--rcfile RCFILE]\n",
      "                     {friends,followers,list-followers,list-members,retweeters,scrape,tweet-date,users,user-tweets,tweets,attrition,tweet-search,tweet-count,user-search}\n",
      "                     ...\n",
      "\n",
      "Minet Twitter Command\n",
      "=====================\n",
      "\n",
      "Gather data from Twitter.\n",
      "\n",
      "options:\n",
      "  -h, --help                                      show this help message and exit\n",
      "  --rcfile RCFILE                                 Custom path to a minet configuration file.\n",
      "\n",
      "actions:\n",
      "  {friends,followers,list-followers,list-members,retweeters,scrape,tweet-date,users,user-tweets,tweets,attrition,tweet-search,tweet-count,user-search}\n",
      "                                                  Action to perform.\n",
      "\u001b[0m"
     ]
    }
   ],
   "source": [
    "!minet twitter"
   ]
  },
  {
   "attachments": {},
   "cell_type": "markdown",
   "id": "75d3f6d9",
   "metadata": {},
   "source": [
    "Not sure whether the API is still working, so we choose scraping."
   ]
  },
  {
   "cell_type": "code",
   "execution_count": 5,
   "id": "e9b6efd2",
   "metadata": {},
   "outputs": [
    {
     "name": "stdout",
     "output_type": "stream",
     "text": [
      "usage: minet twitter scrape [-h] [--rcfile RCFILE] [--include-refs] [-l LIMIT]\n",
      "                            [-o OUTPUT] [--query-template QUERY_TEMPLATE]\n",
      "                            [-s SELECT]\n",
      "                            {tweets,users} query [file]\n",
      "\n",
      "Minet Twitter Scrape Command\n",
      "============================\n",
      "\n",
      "Scrape Twitter's public facing search API to collect tweets or users.\n",
      "\n",
      "Be sure to check Twitter's advanced search to check what kind of\n",
      "operators you can use to tune your queries (time range, hashtags,\n",
      "mentions, boolean etc.):\n",
      "https://twitter.com/search-advanced?f=live\n",
      "\n",
      "Useful operators include \"since\" and \"until\" to search specific\n",
      "time ranges like so: \"since:2014-01-01 until:2017-12-31\".\n",
      "\n",
      "positional arguments:\n",
      "  {tweets,users}                   What to scrape. Currently only `tweets` and `users` are possible.\n",
      "  query                            Search query or name of the column containing queries to run in given CSV file.\n",
      "  file                             Optional CSV file containing the queries to be run.\n",
      "\n",
      "options:\n",
      "  -h, --help                       show this help message and exit\n",
      "  --rcfile RCFILE                  Custom path to a minet configuration file.\n",
      "  --include-refs                   Whether to emit referenced tweets (quoted, retweeted & replied) in the CSV output. Note that it consumes a memory proportional to the total number of unique tweets retrieved.\n",
      "  -l LIMIT, --limit LIMIT          Maximum number of tweets or users to collect per query.\n",
      "  -o OUTPUT, --output OUTPUT       Path to the output file. By default, the results will be printed to stdout.\n",
      "  --query-template QUERY_TEMPLATE  Query template. Can be useful for instance to change a column of twitter user screen names into from:@user queries.\n",
      "  -s SELECT, --select SELECT       Columns of input CSV file to include in the output (separated by `,`).\n",
      "\n",
      "examples:\n",
      "\n",
      ". Collecting the latest 500 tweets of a given Twitter user:\n",
      "    $ minet tw scrape tweets \"from:@jack\" --limit 500 > tweets.csv\n",
      "\n",
      ". Collecting the tweets from multiple Twitter queries listed in a CSV file:\n",
      "    $ minet tw scrape tweets query queries.csv > tweets.csv\n",
      "\n",
      ". Templating the given CSV column to query tweets by users:\n",
      "    $ minet tw scrape tweets user users.csv --query-template 'from:@{value}' > tweets.csv\n",
      "\n",
      ". Tip: You can add a \"OR @aNotExistingHandle\" to your query to avoid searching\n",
      "  for your query terms in usernames or handles.\n",
      "  Note that this is a temporary hack which might stop working at any time so be\n",
      "  sure to double check before relying on this trick.\n",
      "  For more information see the related discussion here:\n",
      "  https://webapps.stackexchange.com/questions/127425/how-to-exclude-usernames-and-handles-while-searching-twitter\n",
      "\n",
      "    $ minet tw scrape tweets \"keyword OR @anObviouslyNotExistingHandle\"\n",
      "\n",
      ". Collecting users with \"adam\" in their user_name or user_description:\n",
      "    $ minet tw scrape users adam > users.csv\n",
      "\u001b[0m"
     ]
    }
   ],
   "source": [
    "!minet twitter scrape -h"
   ]
  },
  {
   "attachments": {},
   "cell_type": "markdown",
   "id": "62d0818b",
   "metadata": {},
   "source": [
    "We're interested in discussions about Germany giving battle tanks to Ukraine. So, let's try to scrape 100 tweets, just to try our query, containing the word `Leopard` (the name of a German tank model most requested by Ukraine)."
   ]
  },
  {
   "cell_type": "code",
   "execution_count": 7,
   "id": "0c6ac7c0",
   "metadata": {},
   "outputs": [
    {
     "name": "stdout",
     "output_type": "stream",
     "text": [
      "query,id,timestamp_utc,local_time,user_screen_name,text,possibly_sensitive,retweet_count,like_count,reply_count,impression_count,lang,to_username,to_userid,to_tweetid,source_name,source_url,user_location,lat,lng,user_id,user_name,user_verified,user_description,user_url,user_image,user_tweets,user_followers,user_friends,user_likes,user_lists,user_created_at,user_timestamp_utc,collected_via,match_query,retweeted_id,retweeted_user,retweeted_user_id,retweeted_timestamp_utc,quoted_id,quoted_user,quoted_user_id,quoted_timestamp_utc,collection_time,url,place_country_code,place_name,place_type,place_coordinates,links,domains,media_urls,media_files,media_types,media_alt_texts,mentioned_names,mentioned_ids,hashtags,intervention_type,intervention_text,intervention_url\n",
      "Searching for \"Leopard\"                                                         \n",
      "Leopard,1635682232093364224,1678812008,2023-03-14T16:40:08,99leopard99,\"@LEAD_Coalition As an Alzheimers caregiver, this book was instrumental in my understanding. https://twitter.com/99leopard99/status/1635682232093364224/photo/1\",0,0,0,0,,en,LEAD_Coalition,64703161,1635622052051787776,Twitter for Android,http://twitter.com/download/android,global,,,25499975,😷triangle,0,\"😷#GoodTrouble #RESISTANCE #IL14/ #INDIVISIBLE🌊☮️\n",
      "#Birder\",,https://pbs.twimg.com/profile_images/869767385900883968/apP83kxM_normal.jpg,111778,1364,1671,146513,7,2009-03-20T13:10:50,1237554650,scraping,1,,,,,,,,,2023-03-14T17:40:20.754030,https://twitter.com/99leopard99/status/1635682232093364224,,,,,,,https://pbs.twimg.com/media/FrMcUmZXsAgl7Em.jpg,1635682232093364224_FrMcUmZXsAgl7Em.jpg,photo,,lead_coalition,64703161,,,,\n",
      "Leopard,1635682031454801920,1678811960,2023-03-14T16:39:20,sagarghi,\"Searching for snow leopards in Himalayan Nepal\n",
      "Dolpo is one of the snow leopard’s last strongholds in the world. \n",
      "@FT \n",
      "https://www.ft.com/content/f64226e0-d7ea-4b3f-b2c6-ae25e23923ca?fbclid=IwAR2XkUeFBYBJuEUGQ1S1vlrBuGMPYX6oFut0Oh9qNByWR_32hrCPiTZrK4k\",0,0,0,0,,en,,,,Twitter for iPhone,http://twitter.com/download/iphone,Kathmandu Nepal,,,66101348,Sagar Ghimire,1,\"Journalist @AFP, covering #Nepal. Fascinated by economic facts, figures and features. On Twitter I speak only for myself.\",https://muckrack.com/sagarghimire,https://pbs.twimg.com/profile_images/1222034859826143232/qJYLdqH7_normal.jpg,6013,3480,423,438,59,2009-08-16T11:35:00,1250422500,scraping,1,,,,,,,,,2023-03-14T17:40:20.756037,https://twitter.com/sagarghi/status/1635682031454801920,NP,Nepal,country,\"[[80.0633414, 26.3483092], [88.2026997, 26.3483092], [88.2026997, 30.4333897], [80.0633414, 30.4333897]]\",https://www.ft.com/content/f64226e0-d7ea-4b3f-b2c6-ae25e23923ca,ft.com,,,,,ft,18949452,,,,\n",
      "Leopard,1635682012249063424,1678811955,2023-03-14T16:39:15,ElenaYukihyo,@tiantenshiVT 👀👀👀✨,,0,0,0,,und,tiantenshiVT,1529748922469588992,1635657045176139780,Twitter Web App,https://mobile.twitter.com,Behind You 😏 ,,,1394659935762354183,Elena Yukihyo ❄️ Snow Leopard VTuber《 2.0 ARC 》,0,❄️ エレナ雪豹 ❄️ SNEP | Guild Leader ❄️ @TEAMCOMFYVT ❄️ #elenyaart • Good Vibes • Cheeky • Shapeshifter • Wine 🍷 • Caffeine ☕ • Comfy Tail Hug Therapy ❄️ ひょー,,https://pbs.twimg.com/profile_images/1610662829505544197/GzYA3Cvp_normal.jpg,20974,1522,629,31697,35,2021-05-18T14:23:49,1621347829,scraping,1,,,,,,,,,2023-03-14T17:40:20.756858,https://twitter.com/ElenaYukihyo/status/1635682012249063424,,,,,,,,,,,tiantenshivt,1529748922469588992,,,,\n",
      "Leopard,1635681764256493569,1678811896,2023-03-14T16:38:16,NyxTheNeko,@CaramelKaiteki https://twitter.com/NyxTheNeko/status/1635681764256493569/photo/1,0,0,1,1,9,qme,CaramelKaiteki,1413886688640868353,1635585681060659200,Twitter for iPhone,http://twitter.com/download/iphone,Canada,,,1333119243089567752,Nyx 🐱❄️ | Snow Leopard Vtuber,0,Snow Leopard VTuber | Twitch Partner | She/Her 🔞 Comfy Chaos | PFP: @dvdraw_ Banner: @Nanaderel | Art: #NyxNyart | NSFW: #NyaughtyNyx | https://t.co/ihhUd9a9Eh,http://Twitch.tv/nyxtheneko,https://pbs.twimg.com/profile_images/1622919753932193792/jFc-GWNg_normal.jpg,40934,41632,1227,98731,224,2020-11-29T18:43:15,1606675395,scraping,1,,,,,,,,,2023-03-14T17:40:20.757788,https://twitter.com/NyxTheNeko/status/1635681764256493569,,,,,,,https://video.twimg.com/tweet_video/FrMb5EmWIAEbxoh.mp4,1635681764256493569_FrMb5EmWIAEbxoh.mp4,animated_gif,Anime Smug Face Smug Anime Girl GIF,caramelkaiteki,1413886688640868353,,,,\n",
      "Leopard,1635681759848280070,1678811895,2023-03-14T16:38:15,Leopard24theWin,@thomas_wiegold Verdient👍,,0,0,0,,es,thomas_wiegold,17622775,1635669236134686721,Twitter for Android,http://twitter.com/download/android,\"Freiburg im Breisgau, Deutschl\",,,1497655879356850176,Armchair General,0,Liberal | FDP | Verteidigungspolitik | Critical |Diskussionsbedürftig | Member @GSPSipo,,https://pbs.twimg.com/profile_images/1623451624319471616/9_15oeaC_normal.jpg,5679,102,261,11123,1,2022-02-26T19:34:03,1645904043,scraping,1,,,,,,,,,2023-03-14T17:40:20.758643,https://twitter.com/Leopard24theWin/status/1635681759848280070,,,,,,,,,,,thomas_wiegold,17622775,,,,\n",
      "Leopard,1635681587584188416,1678811854,2023-03-14T16:37:34,FerdonaldManroe,\"@PiNewsMedia @PiCoreTeam Don't be stupid, Pi won't change your life quickly, it's better to set aside a little money to buy Babydoge, Pitbull and Leopard, see this year or at the latest next year it will change your life to be more prosperous in the economy..\",,0,0,0,3,en,PiNewsMedia,1313548940944396288,1635678753526538242,Twitter for Android,http://twitter.com/download/android,,,,1470207252816543747,Ferdonald Manroe,0,Jika Tuhan Mengujimu Maka Balaslah Dengan Pujian.,,https://pbs.twimg.com/profile_images/1552882067410538496/wIk3iwfB_normal.jpg,583,15,110,206,3,2021-12-13T01:42:01,1639359721,scraping,1,,,,,,,,,2023-03-14T17:40:20.759530,https://twitter.com/FerdonaldManroe/status/1635681587584188416,,,,,,,,,,,picoreteam|pinewsmedia,1126232134065147904|1313548940944396288,,,,\n",
      "Leopard,1635681383484981248,1678811805,2023-03-14T16:36:45,johnnguyo9,\"@Biancawamu2 Saltless, being trampled down by politicians. Processes must be protected. At this rate even governor losers will be doing Maandamano to share power. Gor Mahia who believe they don't lose matches will be doing Maandamano to share AFC leopard's points. We are opening a Pandora box\",,0,0,0,16,en,Biancawamu2,1565319556708581376,1635595061923807232,Twitter for Android,http://twitter.com/download/android,,,,1603711196607258626,john nguyo,0,,,https://pbs.twimg.com/profile_images/1603712121493127171/G1C_r_Xh_normal.jpg,5894,274,799,15536,0,2022-12-16T11:20:12,1671189612,scraping,1,,,,,,,,,2023-03-14T17:40:20.760186,https://twitter.com/johnnguyo9/status/1635681383484981248,,,,,,,,,,,biancawamu2,1565319556708581376,,,,\n",
      "Leopard,1635681255655190552,1678811775,2023-03-14T16:36:15,Andeeerr_,@DJSCHEME_ Love this song,,0,0,0,3,en,DJSCHEME_,2644218844,1635659271999291394,Twitter for iPhone,http://twitter.com/download/iphone,,,,1183597765349269504,SNOW LEOPARD,0,I can’t escape my mind it’s like I’m doing time all the time https://t.co/ULZXhX7Ldf,https://instagram.com/ander.arayaa,https://pbs.twimg.com/profile_images/1622445737106673664/H-ksnMoC_normal.jpg,1070,122,379,15921,1,2019-10-14T04:18:00,1571026680,scraping,1,,,,,,,,,2023-03-14T17:40:20.761104,https://twitter.com/Andeeerr_/status/1635681255655190552,,,,,,,,,,,djscheme_,2644218844,,,,\n",
      "Leopard,1635681131465932801,1678811745,2023-03-14T16:35:45,IfmParis,\"Quel rapport entre la menace d’extinction grandissante qui pèse sur le léopard (panthera pardus) et le succès de l’imprimé léopard  dans la mode ? Prochain séminaire Dresscodes @IfmParis (22/03, 18h) avec Caroline Good (@WildCRU_Ox) https://www.ifmparis.fr/fr/opinion/dresscodes-3-4-2 #biodiversity #fashion https://twitter.com/IfmParis/status/1635681131465932801/photo/1\",0,1,0,0,28,fr,,,,Twitter Web App,https://mobile.twitter.com,\"Paris, France\",,,35792246,IfmParis,0,\"Institut Français de la Mode provides programmes in fashion design, management and craftsmanship, with a strong focus on culture and extensive industry ties.\",http://www.ifmparis.fr,https://pbs.twimg.com/profile_images/1125791296596140037/YDNHnRIU_normal.png,37705,27388,28717,5565,779,2009-04-27T16:55:47,1240851347,scraping,1,,,,,,,,,2023-03-14T17:40:20.762209,https://twitter.com/IfmParis/status/1635681131465932801,,,,,https://www.ifmparis.fr/fr/opinion/dresscodes-3-4-2,ifmparis.fr,https://pbs.twimg.com/media/FrMbDY5XgAA0Xt_.jpg,1635681131465932801_FrMbDY5XgAA0Xt_.jpg,photo,,ifmparis|wildcru_ox,35792246|3431374869,biodiversity|fashion,,,\n",
      "Leopard,1635681125485154305,1678811744,2023-03-14T16:35:44,NY_Kid9158,@slothtitss snow leopard😭😭😭,,0,1,1,11,en,slothtitss,1580385182401662976,1635676784875257856,Twitter for iPhone,http://twitter.com/download/iphone,,,,1454204304319987718,NY_Kid #LLP,0,it’s the internet,https://linktr.ee/NY_Kid,https://pbs.twimg.com/profile_images/1631341950535180321/L4E_y_tt_normal.jpg,65438,2740,1679,46475,25,2021-10-29T21:51:48,1635544308,scraping,1,,,,,,,,,2023-03-14T17:40:20.762830,https://twitter.com/NY_Kid9158/status/1635681125485154305,,,,,,,,,,,slothtitss,1580385182401662976,,,,\n",
      "Collecting tweet: 100%|███████████| 10/10 [00:01<00:00,  5.19tweet/s, queries=1]\u001b[0m\n"
     ]
    }
   ],
   "source": [
    "!minet twitter scrape tweets -l 10 \"Leopard\""
   ]
  },
  {
   "attachments": {},
   "cell_type": "markdown",
   "id": "1ef65163",
   "metadata": {},
   "source": [
    "Guess, we have to refine the query … "
   ]
  },
  {
   "cell_type": "code",
   "execution_count": 9,
   "id": "3420e6f3-4f0c-4e26-8585-020556698b40",
   "metadata": {
    "tags": []
   },
   "outputs": [
    {
     "name": "stdout",
     "output_type": "stream",
     "text": [
      "query,id,timestamp_utc,local_time,user_screen_name,text,possibly_sensitive,retweet_count,like_count,reply_count,impression_count,lang,to_username,to_userid,to_tweetid,source_name,source_url,user_location,lat,lng,user_id,user_name,user_verified,user_description,user_url,user_image,user_tweets,user_followers,user_friends,user_likes,user_lists,user_created_at,user_timestamp_utc,collected_via,match_query,retweeted_id,retweeted_user,retweeted_user_id,retweeted_timestamp_utc,quoted_id,quoted_user,quoted_user_id,quoted_timestamp_utc,collection_time,url,place_country_code,place_name,place_type,place_coordinates,links,domains,media_urls,media_files,media_types,media_alt_texts,mentioned_names,mentioned_ids,hashtags,intervention_type,intervention_text,intervention_url\n",
      "Searching for \"(ukraine Germany) AND (tank OR tanks OR leopard)\"                \n",
      "(ukraine Germany) AND (tank OR tanks OR leopard),1635682012638982160,1678811955,2023-03-14T16:39:15,Hkjhgc2,\"BRUTAL ATTACK!! U artillery brigade destroys dozens R tank near donbas\n",
      " #Canada #Germany #donetsk #Ukraine #Bakhmut\n",
      " https://twtubelink.page.link/6vinogcrToec7CYcA\",0,0,0,0,23,en,,,,Twitter Web App,https://mobile.twitter.com,,,,1578037094785507329,News,0,,,https://pbs.twimg.com/profile_images/1579646287904923648/H4mXJE3Q_normal.jpg,10886,28,17,17,0,2022-10-06T14:59:21,1665068361,scraping,1,,,,,,,,,2023-03-14T17:42:16.092861,https://twitter.com/Hkjhgc2/status/1635682012638982160,,,,,https://twtubelink.page.link/6vinogcrToec7CYcA,twtubelink.page.link,,,,,,,bakhmut|canada|donetsk|germany|ukraine,,,\n",
      "(ukraine Germany) AND (tank OR tanks OR leopard),1635677496929648640,1678810879,2023-03-14T16:21:19,david_n919,\"Ukraine war video footage, Drone Attack, Russia soldiers and tanks, in Odesa, bakhmut, Brutal Attack\n",
      "#Canada #Germany #Bakhmut #Kyiv #Ukraine\n",
      "https://twtubekb9.page.link/fKnyKL7n9yjFcymZA\",1,0,0,0,179,en,,,,Twitter Web App,https://mobile.twitter.com,,,,1474478337217204234,Villa7,0,Specializes in monitoring war crimes in Ukraine,https://tube4arabs.blogspot.com/,https://pbs.twimg.com/profile_images/1612216854281330688/9czFHlgv_normal.jpg,32045,266,1252,2442,6,2021-12-24T20:33:52,1640378032,scraping,1,,,,,,,,,2023-03-14T17:42:16.094091,https://twitter.com/david_n919/status/1635677496929648640,,,,,https://twtubekb9.page.link/fKnyKL7n9yjFcymZA,twtubekb9.page.link,,,,,,,bakhmut|canada|germany|kyiv|ukraine,,,\n",
      "(ukraine Germany) AND (tank OR tanks OR leopard),1635676983043473408,1678810756,2023-03-14T16:19:16,david_n919,\"Brutal footage! Ukraine Drones Bombs, Destroys Russian Soldiers & Tank in Bakhmut\n",
      "#Canada #Germany #Bakhmut #Kyiv #Ukraine\n",
      "https://twtubekb9.page.link/qqMXRejo53akSS1S7\",1,0,0,0,118,en,,,,Twitter Web App,https://mobile.twitter.com,,,,1474478337217204234,Villa7,0,Specializes in monitoring war crimes in Ukraine,https://tube4arabs.blogspot.com/,https://pbs.twimg.com/profile_images/1612216854281330688/9czFHlgv_normal.jpg,32045,266,1252,2442,6,2021-12-24T20:33:52,1640378032,scraping,1,,,,,,,,,2023-03-14T17:42:16.095146,https://twitter.com/david_n919/status/1635676983043473408,,,,,https://twtubekb9.page.link/qqMXRejo53akSS1S7,twtubekb9.page.link,,,,,,,bakhmut|canada|germany|kyiv|ukraine,,,\n",
      "(ukraine Germany) AND (tank OR tanks OR leopard),1635675409168605185,1678810381,2023-03-14T16:13:01,david_n919,\"Horrible Attack!! Ukrainian Drones Drop Bombs on russian Tank, Bakhmut Region, War Video Footage\n",
      "#Canada #Germany #Bakhmut #Kyiv #Ukraine\n",
      "https://twtubekb9.page.link/y5XCUqRY5v7M4FbGA\",1,0,0,0,111,en,,,,Twitter Web App,https://mobile.twitter.com,,,,1474478337217204234,Villa7,0,Specializes in monitoring war crimes in Ukraine,https://tube4arabs.blogspot.com/,https://pbs.twimg.com/profile_images/1612216854281330688/9czFHlgv_normal.jpg,32045,266,1252,2442,6,2021-12-24T20:33:52,1640378032,scraping,1,,,,,,,,,2023-03-14T17:42:16.096145,https://twitter.com/david_n919/status/1635675409168605185,,,,,https://twtubekb9.page.link/y5XCUqRY5v7M4FbGA,twtubekb9.page.link,,,,,,,bakhmut|canada|germany|kyiv|ukraine,,,\n",
      "(ukraine Germany) AND (tank OR tanks OR leopard),1635673794864898051,1678809996,2023-03-14T16:06:36,Hkjhgc2,\"Massive Attack (Mar 13 2023) Ukrainian forces fired dozens HIMARS missile destroyed 44 Russian tanks\n",
      " #Canada #Germany #donetsk #Ukraine #Bakhmut\n",
      " https://twtubelink.page.link/JCgDFsgS4ooLBtBs5\",0,0,0,0,112,en,,,,Twitter Web App,https://mobile.twitter.com,,,,1578037094785507329,News,0,,,https://pbs.twimg.com/profile_images/1579646287904923648/H4mXJE3Q_normal.jpg,10886,28,17,17,0,2022-10-06T14:59:21,1665068361,scraping,1,,,,,,,,,2023-03-14T17:42:16.097142,https://twitter.com/Hkjhgc2/status/1635673794864898051,,,,,https://twtubelink.page.link/JCgDFsgS4ooLBtBs5,twtubelink.page.link,,,,,,,bakhmut|canada|donetsk|germany|ukraine,,,\n",
      "(ukraine Germany) AND (tank OR tanks OR leopard),1635673549024251910,1678809938,2023-03-14T16:05:38,queen_ukraine,\"Ukrainian Drones Drop Grenades brutally to Russian tanks Positions on Front Lines\n",
      " #Canada #Germany #America #Ukraine #Bakhmut\n",
      " https://libyatube.page.link/awYvbsjNB8ReiMBc6\",0,0,0,0,99,en,,,,Twitter Web App,https://mobile.twitter.com,,,,1600223437485707278,Ukraine Queen,0,,,https://pbs.twimg.com/profile_images/1600223688137314326/jesSBFdD_normal.jpg,25931,92,101,4,2,2022-12-06T20:19:41,1670357981,scraping,1,,,,,,,,,2023-03-14T17:42:16.098086,https://twitter.com/queen_ukraine/status/1635673549024251910,,,,,https://libyatube.page.link/awYvbsjNB8ReiMBc6,libyatube.page.link,,,,,,,america|bakhmut|canada|germany|ukraine,,,\n",
      "(ukraine Germany) AND (tank OR tanks OR leopard),1635672761317089281,1678809750,2023-03-14T16:02:30,david_n919,\"Horrible!! Ukraine drone attack, destroy Russian tanks, war video footage\n",
      "#Canada #Germany #Bakhmut #Kyiv #Ukraine\n",
      "https://twtubekb9.page.link/GrNyTcUyCfij9Bvy9\",1,0,0,0,117,en,,,,Twitter Web App,https://mobile.twitter.com,,,,1474478337217204234,Villa7,0,Specializes in monitoring war crimes in Ukraine,https://tube4arabs.blogspot.com/,https://pbs.twimg.com/profile_images/1612216854281330688/9czFHlgv_normal.jpg,32045,266,1252,2442,6,2021-12-24T20:33:52,1640378032,scraping,1,,,,,,,,,2023-03-14T17:42:16.099105,https://twitter.com/david_n919/status/1635672761317089281,,,,,https://twtubekb9.page.link/GrNyTcUyCfij9Bvy9,twtubekb9.page.link,,,,,,,bakhmut|canada|germany|kyiv|ukraine,,,\n",
      "(ukraine Germany) AND (tank OR tanks OR leopard),1635672342306205696,1678809650,2023-03-14T16:00:50,Hkjhgc2,\"HORRIBLE!! Ukraine marines destroy 4 tank and 5 Russian armored personnel vehicles near Lyman\n",
      " #Canada #Germany #donetsk #Ukraine #Bakhmut\n",
      " https://twtubelink.page.link/vufebBPDaDYkZUva6\",0,0,0,0,105,en,,,,Twitter Web App,https://mobile.twitter.com,,,,1578037094785507329,News,0,,,https://pbs.twimg.com/profile_images/1579646287904923648/H4mXJE3Q_normal.jpg,10886,28,17,17,0,2022-10-06T14:59:21,1665068361,scraping,1,,,,,,,,,2023-03-14T17:42:16.100171,https://twitter.com/Hkjhgc2/status/1635672342306205696,,,,,https://twtubelink.page.link/vufebBPDaDYkZUva6,twtubelink.page.link,,,,,,,bakhmut|canada|donetsk|germany|ukraine,,,\n",
      "(ukraine Germany) AND (tank OR tanks OR leopard),1635671362655141890,1678809416,2023-03-14T15:56:56,Hkjhgc2,\"Ukraine's 93rd Mechanized Brigade Destroys 11 Russian Military Vehicles Including Tanks\n",
      " #Canada #Germany #donetsk #Ukraine #Bakhmut\n",
      " https://twtubelink.page.link/g9NPkYnNUQE7RtPY9\",0,0,0,0,86,en,,,,Twitter Web App,https://mobile.twitter.com,,,,1578037094785507329,News,0,,,https://pbs.twimg.com/profile_images/1579646287904923648/H4mXJE3Q_normal.jpg,10886,28,17,17,0,2022-10-06T14:59:21,1665068361,scraping,1,,,,,,,,,2023-03-14T17:42:16.101362,https://twitter.com/Hkjhgc2/status/1635671362655141890,,,,,https://twtubelink.page.link/g9NPkYnNUQE7RtPY9,twtubelink.page.link,,,,,,,bakhmut|canada|donetsk|germany|ukraine,,,\n",
      "(ukraine Germany) AND (tank OR tanks OR leopard),1635670894960836609,1678809305,2023-03-14T15:55:05,Hkjhgc2,\"BRUTAL ATTACK!! Ukraine Army destroy 700 Russian MBT tank and 650 armored vehicles in Kharkiv\n",
      " #Canada #Germany #donetsk #Ukraine #Bakhmut\n",
      " https://twtubelink.page.link/Do8LrUYPZtY241bt8\",0,0,0,0,94,en,,,,Twitter Web App,https://mobile.twitter.com,,,,1578037094785507329,News,0,,,https://pbs.twimg.com/profile_images/1579646287904923648/H4mXJE3Q_normal.jpg,10886,28,17,17,0,2022-10-06T14:59:21,1665068361,scraping,1,,,,,,,,,2023-03-14T17:42:16.102397,https://twitter.com/Hkjhgc2/status/1635670894960836609,,,,,https://twtubelink.page.link/Do8LrUYPZtY241bt8,twtubelink.page.link,,,,,,,bakhmut|canada|donetsk|germany|ukraine,,,\n",
      "Collecting tweet: 100%|███████████| 10/10 [00:01<00:00,  5.98tweet/s, queries=1]\u001b[0m\n"
     ]
    }
   ],
   "source": [
    "!minet twitter scrape tweets -l 10 \"(ukraine Germany) AND (tank OR tanks OR leopard)\""
   ]
  },
  {
   "attachments": {},
   "cell_type": "markdown",
   "id": "e6672007",
   "metadata": {},
   "source": [
    "Meh, still not good enough?"
   ]
  },
  {
   "cell_type": "code",
   "execution_count": 10,
   "id": "d294eb35",
   "metadata": {},
   "outputs": [
    {
     "name": "stdout",
     "output_type": "stream",
     "text": [
      "query,id,timestamp_utc,local_time,user_screen_name,text,possibly_sensitive,retweet_count,like_count,reply_count,impression_count,lang,to_username,to_userid,to_tweetid,source_name,source_url,user_location,lat,lng,user_id,user_name,user_verified,user_description,user_url,user_image,user_tweets,user_followers,user_friends,user_likes,user_lists,user_created_at,user_timestamp_utc,collected_via,match_query,retweeted_id,retweeted_user,retweeted_user_id,retweeted_timestamp_utc,quoted_id,quoted_user,quoted_user_id,quoted_timestamp_utc,collection_time,url,place_country_code,place_name,place_type,place_coordinates,links,domains,media_urls,media_files,media_types,media_alt_texts,mentioned_names,mentioned_ids,hashtags,intervention_type,intervention_text,intervention_url\n",
      "Searching for \"(Ukraine Germany) AND (tank OR tanks OR leopard) AND (deliver OR delivery OR delivers)\"\n",
      "(Ukraine Germany) AND (tank OR tanks OR leopard) AND (deliver OR delivery OR delivers),1635529283845206016,1678775542,2023-03-14T06:32:22,belal4abty,\"U.S. Faces Timeline Issues Over Delivery Of Abrams Tanks To Ukraine I Can US Supply Tanks On Time?\n",
      "#Canada #Germany #America #Ukraine #Bakhmut\n",
      "https://twtubekb9.page.link/3hVVh7dhFkY8dY8h6\",0,0,0,0,116,en,,,,Twitter for Android,http://twitter.com/download/android,ليبيا,,,1614799771889172480,بلال الرابطي,0,\"النيه الطيبة: فهي مفتاح باب الرزق.\n",
      "والكلمه الطيبة: فهي مفتاح باب القلوب.\",,https://pbs.twimg.com/profile_images/1614799920581541891/uYkBpClH_normal.jpg,110,28,156,196,0,2023-01-16T01:40:48,1673833248,scraping,1,,,,,,,,,2023-03-14T17:44:18.304558,https://twitter.com/belal4abty/status/1635529283845206016,,,,,https://twtubekb9.page.link/3hVVh7dhFkY8dY8h6,twtubekb9.page.link,,,,,,,america|bakhmut|canada|germany|ukraine,,,\n",
      "(Ukraine Germany) AND (tank OR tanks OR leopard) AND (deliver OR delivery OR delivers),1635486850985996288,1678765425,2023-03-14T03:43:45,Meiisa5,\"Update from Ukraine | Good news Leopard 2 Tanks delivery | Bad news Soledar\n",
      " #Canada #Germany #America #Ukraine #Bakhmut\n",
      " https://twtubelink.page.link/AHy3kvFMZ86LWh9d6\",0,0,0,0,73,en,,,,Twitter Web App,https://mobile.twitter.com,,,,1617608058464620544,Meiisa,0,,,https://pbs.twimg.com/profile_images/1617629180417433608/e5nfZ34i_normal.jpg,4056,22,10,3,0,2023-01-23T19:40:05,1674502805,scraping,1,,,,,,,,,2023-03-14T17:44:18.305545,https://twitter.com/Meiisa5/status/1635486850985996288,,,,,https://twtubelink.page.link/AHy3kvFMZ86LWh9d6,twtubelink.page.link,,,,,,,america|bakhmut|canada|germany|ukraine,,,\n",
      "(Ukraine Germany) AND (tank OR tanks OR leopard) AND (deliver OR delivery OR delivers),1635387603833999362,1678741763,2023-03-13T21:09:23,Abdo_Milad05,\"Update from Ukraine | Good news Leopard 2 Tanks delivery | Bad news Soledar\n",
      " #Canada #Germany #War #Ukraine #Bakhmut\n",
      " https://libyatube.page.link/EQCY3T9CFbLoPJib6\",0,0,1,0,207,en,,,,Twitter Web App,https://mobile.twitter.com,libya,,,802850828566532096,Turkey Sad,0,💔😢,,https://pbs.twimg.com/profile_images/1634754083205644288/NQYYbAvj_normal.jpg,1259,5,8,26,0,2016-11-27T12:25:28,1480249528,scraping,1,,,,,,,,,2023-03-14T17:44:18.306470,https://twitter.com/Abdo_Milad05/status/1635387603833999362,,,,,https://libyatube.page.link/EQCY3T9CFbLoPJib6,libyatube.page.link,,,,,,,bakhmut|canada|germany|ukraine|war,,,\n",
      "(Ukraine Germany) AND (tank OR tanks OR leopard) AND (deliver OR delivery OR delivers),1635328916054503424,1678727771,2023-03-13T17:16:11,GermanyNATO,\"Alongside 🇳🇱 and 🇩🇰, 🇩🇪 is financing repairs to Leopard 1 A5 battle tanks for delivery to #Ukraine. Parliamentary State Secretary Hitschler and Danish Defence Minister Poulsen were briefed on the state of play at the firm Flensburger Fahrzeugbau Gesellschaft. « BMVg_Bundeswehr: Gemeinsam mit 🇳🇱 und 🇩🇰 finanziert 🇩🇪 die Instandsetzung von Leopard 1 A5 #Kampfpanzer​n zur Abgabe an die #Ukraine. Über den aktuellen Stand der Arbeiten informierte sich PStS Hitschler mit dem dänischen Verteidigungsminister Poulsen bei der Flensburger Fahrzeugbau Gesellschaft. https://twitter.com/BMVg_Bundeswehr/status/1635286518125465602/photo/1 — https://twitter.com/bmvg_bundeswehr/status/1635286518125465602 »\",,11,24,1,3959,en,,,,Twitter Web App,https://mobile.twitter.com,\"Brussels, Belgium\",,,4832524551,Germany at NATO,1,Latest Tweets from the German Delegation to NATO. Follows + RTs ≠ endorsements. #WeAreNATO Publication Data: https://t.co/QP3SdxbW4C,http://www.nato.diplo.de,https://pbs.twimg.com/profile_images/856472601832632320/OUJJl_Dq_normal.jpg,14769,47293,1585,8007,732,2016-01-21T11:49:50,1453376990,scraping,1,,,,,1635286518125465602,BMVg_Bundeswehr,1121700961125314560,1678717662,2023-03-14T17:44:18.308257,https://twitter.com/GermanyNATO/status/1635328916054503424,,,,,,,https://pbs.twimg.com/media/FrG0aq-aIAQ1Kxc.jpg,1635286518125465602_FrG0aq-aIAQ1Kxc.jpg,photo,\"Mehrere Personen stehen vor einem Kampfpanzer in einer Instandsetzungshalle.\n",
      "\n",
      "Credits: Bundeswehr\",,,kampfpanzer|ukraine,,,\n",
      "(Ukraine Germany) AND (tank OR tanks OR leopard) AND (deliver OR delivery OR delivers),1635303712045559809,1678721762,2023-03-13T15:36:02,Mickangello,\"@MriyaReport …sent to Ukraine. Rather, they would either remain in Germany or with NATO and EU partners “in order to close the gaps created by the delivery of Leopard 2 tanks [to Ukraine] and to improve the supply of spare parts.”But in a sign of Swiss squeamishness toward what could be…\",,0,0,1,30,en,Mickangello,93946973,1635303484978499584,Twitter for iPhone,http://twitter.com/download/iphone,,,,93946973,Mickangelo,0,💙🌻💛🕊❄️🌅🌿🌱💚🌲🌎☮️🌊🐬✨☯️🐋💧🎶,,https://pbs.twimg.com/profile_images/344513261565784745/d016e005151508ca9c6ef4333ba6307e_normal.jpeg,81238,1774,1670,192438,4,2009-12-01T21:25:36,1259702736,scraping,1,,,,,,,,,2023-03-14T17:44:18.308921,https://twitter.com/Mickangello/status/1635303712045559809,,,,,,,,,,,mriyareport,1546263516176326657,,,,\n",
      "(Ukraine Germany) AND (tank OR tanks OR leopard) AND (deliver OR delivery OR delivers),1635288089378848771,1678718037,2023-03-13T14:33:57,RosendorfStefan,\"@FHeisbourg I fail to see how that should help? 🤔 I mean, Germany could just directly deliver its Leopards to Ukraine, no need to include Finland at all 💁🏻‍♂️\n",
      "\n",
      "(But Germany is already hard pressed to even find the tanks for its lead of the VJTF this year https://amp.zdf.de/nachrichten/politik/bundeswehr-leopard-panzer-vjtf-nato-100.html)\",0,0,3,0,100,en,FHeisbourg,483930658,1635277682505314305,Twitter for Android,http://twitter.com/download/android,,,,1491713749232885761,Stefan Rosendorf,0,,,https://pbs.twimg.com/profile_images/1491713921539092480/e6PCuvpZ_normal.jpg,6211,62,192,3358,2,2022-02-10T10:01:27,1644487287,scraping,1,,,,,,,,,2023-03-14T17:44:18.309511,https://twitter.com/RosendorfStefan/status/1635288089378848771,,,,,https://amp.zdf.de/nachrichten/politik/bundeswehr-leopard-panzer-vjtf-nato-100.html,amp.zdf.de,,,,,fheisbourg,483930658,,,,\n",
      "(Ukraine Germany) AND (tank OR tanks OR leopard) AND (deliver OR delivery OR delivers),1635141431898832897,1678683071,2023-03-13T04:51:11,queen_ukraine,\"Update from Ukraine | Good news Leopard 2 Tanks delivery | Bad news Soledar\n",
      " #Canada #Germany #America #Ukraine #Bakhmut\n",
      " https://libyatube.page.link/QzZQ1yrFPetqTz8D9\",0,0,0,0,110,en,,,,Twitter Web App,https://mobile.twitter.com,,,,1600223437485707278,Ukraine Queen,0,,,https://pbs.twimg.com/profile_images/1600223688137314326/jesSBFdD_normal.jpg,25931,92,101,4,2,2022-12-06T20:19:41,1670357981,scraping,1,,,,,,,,,2023-03-14T17:44:18.310394,https://twitter.com/queen_ukraine/status/1635141431898832897,,,,,https://libyatube.page.link/QzZQ1yrFPetqTz8D9,libyatube.page.link,,,,,,,america|bakhmut|canada|germany|ukraine,,,\n",
      "(Ukraine Germany) AND (tank OR tanks OR leopard) AND (deliver OR delivery OR delivers),1634934211672170501,1678633666,2023-03-12T15:07:46,Meiisa5,\"Update from Ukraine | Good news Leopard 2 Tanks delivery | Bad news Soledar\n",
      " #Canada #Germany #America #Ukraine #Bakhmut\n",
      " https://twtubelink.page.link/VB43tCftMZJjhHWn8\",0,0,0,0,151,en,,,,Twitter Web App,https://mobile.twitter.com,,,,1617608058464620544,Meiisa,0,,,https://pbs.twimg.com/profile_images/1617629180417433608/e5nfZ34i_normal.jpg,4056,22,10,3,0,2023-01-23T19:40:05,1674502805,scraping,1,,,,,,,,,2023-03-14T17:44:18.311287,https://twitter.com/Meiisa5/status/1634934211672170501,,,,,https://twtubelink.page.link/VB43tCftMZJjhHWn8,twtubelink.page.link,,,,,,,america|bakhmut|canada|germany|ukraine,,,\n",
      "(Ukraine Germany) AND (tank OR tanks OR leopard) AND (deliver OR delivery OR delivers),1634929426055172099,1678632525,2023-03-12T14:48:45,LindaLopez67,\"Update from Ukraine | Good news Leopard 2 Tanks delivery | Bad news Soledar\n",
      " #Canada #Germany #War #Ukraine #Bakhmut\n",
      " https://libyatube.page.link/viPnQp1GFXBhTJVn8\",0,0,0,0,149,en,,,,Twitter Web App,https://mobile.twitter.com,,,,1600800704544882689,Linda Lopez,0,,,https://pbs.twimg.com/profile_images/1600801046816870400/Og6xSWnF_normal.jpg,3387,100,237,23,5,2022-12-08T10:33:32,1670495612,scraping,1,,,,,,,,,2023-03-14T17:44:18.312213,https://twitter.com/LindaLopez67/status/1634929426055172099,,,,,https://libyatube.page.link/viPnQp1GFXBhTJVn8,libyatube.page.link,,,,,,,bakhmut|canada|germany|ukraine|war,,,\n",
      "(Ukraine Germany) AND (tank OR tanks OR leopard) AND (deliver OR delivery OR delivers),1634650029406269445,1678565911,2023-03-11T20:18:31,Schwuaa,\"@JkNermack @Tendar It's pretty disgusting that many Poles are using the situation of Ukraine to make Germany look bad. Apart from the MBT's, Poland didn't really deliver much stuff. One Iris-T battery alone is worth two-thirds of the Polish tank supply.\",,0,8,1,198,en,JkNermack,1612034614255575044,1634589101511802880,Twitter for Android,http://twitter.com/download/android,,,,1464107754520465408,Nein hier ist Patrick🇺🇦,0,\"Nazis, Querdenker und Putin Fanboys können sich ins Knie f*cken, alles der selbe Müll.\n",
      "Bin hier um Lügen der russischen Propaganda zu entlarven.\",,https://pbs.twimg.com/profile_images/1537826996192956416/4yE7DoF2_normal.jpg,9903,219,16,8777,3,2021-11-26T05:44:43,1637905483,scraping,1,,,,,,,,,2023-03-14T17:44:18.312779,https://twitter.com/Schwuaa/status/1634650029406269445,,,,,,,,,,,jknermack|tendar,1612034614255575044|132512167,,,,\n",
      "Collecting tweet: 100%|███████████| 10/10 [00:02<00:00,  4.11tweet/s, queries=1]\u001b[0m\n"
     ]
    }
   ],
   "source": [
    "!minet twitter scrape tweets -l 10 \"(Ukraine Germany) AND (tank OR tanks OR leopard) AND (deliver OR delivery OR delivers)\""
   ]
  }
 ],
 "metadata": {
  "kernelspec": {
   "display_name": "Python 3 (ipykernel)",
   "language": "python",
   "name": "python3"
  },
  "language_info": {
   "codemirror_mode": {
    "name": "ipython",
    "version": 3
   },
   "file_extension": ".py",
   "mimetype": "text/x-python",
   "name": "python",
   "nbconvert_exporter": "python",
   "pygments_lexer": "ipython3",
   "version": "3.10.10"
  }
 },
 "nbformat": 4,
 "nbformat_minor": 5
}
